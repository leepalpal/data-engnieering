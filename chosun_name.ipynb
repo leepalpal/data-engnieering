{
 "cells": [
  {
   "cell_type": "code",
   "execution_count": 29,
   "id": "3fa0b559-28c0-4afb-a011-16eb113c7366",
   "metadata": {},
   "outputs": [
    {
     "name": "stdout",
     "output_type": "stream",
     "text": [
      "당신의 조선시대 이름은 이육질 입니다.\n"
     ]
    }
   ],
   "source": [
    "def get_my_chosun_name(family_name, month, day):\n",
    "    # 태어난 달에 해당되는 첫 번째 글자 리스트\n",
    "    month_names = ['쌍', '쇠', '복', '돌', '팽', '육', '쌍', '개', '칠', '갑', '삼', '방']\n",
    "    \n",
    "    # 태어난 날짜에 해당되는 두 번째 글자 리스트\n",
    "    day_names = ['봉', '구', '욕', '포', '똥', '삼', '식', '석', '놈', '님', '년', '돌', \n",
    "                 '단', '득', '방', '질', '장', '걸', '래', '룡', '동', '순', '자', \n",
    "                 '박', '창', '언', '것', '포', '만', '단', '국']\n",
    "    \n",
    "    # 월과 일에 해당되는 이름의 글자를 선택\n",
    "    first_char = month_names[month - 1]  # month는 1부터 시작하므로 -1\n",
    "    second_char = day_names[day - 1]      # day도 1부터 시작하므로 -1\n",
    "    \n",
    "    # 조선시대 이름 생성\n",
    "    chosun_name = f\"{family_name}{first_char}{second_char}\"\n",
    "    \n",
    "    return f\"당신의 조선시대 이름은 {chosun_name} 입니다.\"\n",
    "\n",
    "# 함수 호출 예시\n",
    "print(get_my_chosun_name('이', 6, 16))\n"
   ]
  }
 ],
 "metadata": {
  "kernelspec": {
   "display_name": "Python 3 (ipykernel)",
   "language": "python",
   "name": "python3"
  },
  "language_info": {
   "codemirror_mode": {
    "name": "ipython",
    "version": 3
   },
   "file_extension": ".py",
   "mimetype": "text/x-python",
   "name": "python",
   "nbconvert_exporter": "python",
   "pygments_lexer": "ipython3",
   "version": "3.12.4"
  }
 },
 "nbformat": 4,
 "nbformat_minor": 5
}
