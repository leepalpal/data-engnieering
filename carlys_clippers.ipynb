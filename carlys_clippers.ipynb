{
 "cells": [
  {
   "cell_type": "code",
   "execution_count": 1,
   "id": "4deb85a8-7913-4a4a-8cd2-70ad02159149",
   "metadata": {},
   "outputs": [],
   "source": [
    "hairstyles = [\"bouffant\", \"pixie\", \"dreadlocks\", \"crew\", \"bowl\", \"bob\", \"mohawk\", \"flattop\"]\n",
    "prices = [30, 25, 40, 20, 20, 35, 50, 35]\n",
    "last_week = [2, 3, 5, 8, 4, 4, 6, 2]"
   ]
  },
  {
   "cell_type": "code",
   "execution_count": 5,
   "id": "da5cb104-7d4e-4127-9778-8c723e4bc42e",
   "metadata": {},
   "outputs": [],
   "source": [
    "#총 가격 초기화\n",
    "total_price = 0\n",
    "for price in prices:\n",
    "    total_price += price"
   ]
  },
  {
   "cell_type": "code",
   "execution_count": 23,
   "id": "8d41dfd8-89df-447e-ba0f-c2cd1445ce77",
   "metadata": {},
   "outputs": [],
   "source": [
    "#평균가격 계산\n",
    "average_price = total_price / len(prices)"
   ]
  },
  {
   "cell_type": "code",
   "execution_count": 27,
   "id": "acb64c30-5450-4089-ae5d-170d28fdc3e8",
   "metadata": {},
   "outputs": [
    {
     "name": "stdout",
     "output_type": "stream",
     "text": [
      "Average price is: 31.875\n"
     ]
    }
   ],
   "source": [
    "#평균가격 출력\n",
    "print(\"Average price is:\",average_price)"
   ]
  },
  {
   "cell_type": "markdown",
   "id": "83726cba-1f4e-49a7-a6b9-75708f46c603",
   "metadata": {},
   "source": [
    "예상출력 비교\n",
    "\n",
    "Average price is  31.875"
   ]
  },
  {
   "cell_type": "code",
   "execution_count": 37,
   "id": "07f26a10-9a29-4431-955f-9a0203ccbce9",
   "metadata": {},
   "outputs": [
    {
     "name": "stdout",
     "output_type": "stream",
     "text": [
      "[25, 20, 35, 15, 15, 30, 45, 30]\n"
     ]
    }
   ],
   "source": [
    "#새로운 가격 목록 생성\n",
    "new_prices = [price -5 for price in prices]\n",
    "print(new_prices)"
   ]
  },
  {
   "cell_type": "code",
   "execution_count": 41,
   "id": "73e7979c-2550-479e-89b1-cd7eaab90d72",
   "metadata": {},
   "outputs": [],
   "source": [
    "#지난주 수익 계산\n",
    "total_revenue = 0\n",
    "for i in range(len(hairstyles)):\n",
    "    total_revenue += prices[i] * last_week[i]"
   ]
  },
  {
   "cell_type": "code",
   "execution_count": 47,
   "id": "df6cf59e-9647-42d7-bc36-6a23db96ec98",
   "metadata": {},
   "outputs": [
    {
     "name": "stdout",
     "output_type": "stream",
     "text": [
      "Total revenue is: 1085\n"
     ]
    }
   ],
   "source": [
    "#지난주 수익\n",
    "print(\"Total revenue is:\", total_revenue)"
   ]
  },
  {
   "cell_type": "code",
   "execution_count": 49,
   "id": "16b06817-4d45-41ba-8330-05b922ba6dcf",
   "metadata": {},
   "outputs": [
    {
     "name": "stdout",
     "output_type": "stream",
     "text": [
      "Average daily revennu is 155.0\n"
     ]
    }
   ],
   "source": [
    "#일일 수익\n",
    "average_daily_revenue = total_revenue / 7\n",
    "print(\"Average daily revennu is\", average_daily_revenue)"
   ]
  },
  {
   "cell_type": "code",
   "execution_count": 61,
   "id": "37937727-7d77-4eb6-98fc-d1cd25f60f5c",
   "metadata": {},
   "outputs": [
    {
     "name": "stdout",
     "output_type": "stream",
     "text": [
      "['bouffant', 'pixie', 'crew', 'bowl']\n"
     ]
    }
   ],
   "source": [
    "#30달러 이하 헤어컷\n",
    "cuts_under_30 = [hairstyles[i] for i in range(len(new_prices)) if new_prices[i] < 30]\n",
    "print(cuts_under_30)"
   ]
  },
  {
   "cell_type": "code",
   "execution_count": null,
   "id": "9114f13f-d997-40ff-8110-4480d17d37b9",
   "metadata": {},
   "outputs": [],
   "source": []
  }
 ],
 "metadata": {
  "kernelspec": {
   "display_name": "Python 3 (ipykernel)",
   "language": "python",
   "name": "python3"
  },
  "language_info": {
   "codemirror_mode": {
    "name": "ipython",
    "version": 3
   },
   "file_extension": ".py",
   "mimetype": "text/x-python",
   "name": "python",
   "nbconvert_exporter": "python",
   "pygments_lexer": "ipython3",
   "version": "3.12.4"
  }
 },
 "nbformat": 4,
 "nbformat_minor": 5
}
