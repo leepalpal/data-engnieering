{
 "cells": [
  {
   "cell_type": "code",
   "execution_count": 1,
   "id": "45265618-cdfd-4cc1-867b-64ddb6e1e8d5",
   "metadata": {},
   "outputs": [],
   "source": [
    "#과목, 점수\n",
    "subjects = [\"physics\", \"calculus\", \"poetry\", \"history\"]\n",
    "grades = [98, 97, 85, 88]"
   ]
  },
  {
   "cell_type": "code",
   "execution_count": 27,
   "id": "7be67b5b-0c13-4ce6-9087-1cdaa44ba49c",
   "metadata": {},
   "outputs": [],
   "source": [
    "#gradebook list 생성 \n",
    "gradebook = [\n",
    "    [subjects[0], grades[0]],  # ['physics', 98]\n",
    "    [subjects[1], grades[1]],  # ['calculus', 97]\n",
    "    [subjects[2], grades[2]],  # ['poetry', 85]\n",
    "    [subjects[3], grades[3]]   # ['history', 88]\n",
    "]"
   ]
  },
  {
   "cell_type": "code",
   "execution_count": 29,
   "id": "7243c3f3-dcb6-4541-86a1-246af6338bc4",
   "metadata": {},
   "outputs": [
    {
     "data": {
      "text/plain": [
       "[['physics', 98], ['calculus', 97], ['poetry', 85], ['history', 88]]"
      ]
     },
     "execution_count": 29,
     "metadata": {},
     "output_type": "execute_result"
    }
   ],
   "source": [
    "#gradebook 출력\n",
    "gradebook"
   ]
  },
  {
   "cell_type": "markdown",
   "id": "c7c3a9a0-b62b-4458-993d-93f7fca6ddfc",
   "metadata": {},
   "source": [
    "예상출력 비교\n",
    "\n",
    "[['physics', 98], ['calculus', 97], ['poetry', 85], ['history', 88]]"
   ]
  },
  {
   "cell_type": "code",
   "execution_count": 32,
   "id": "62458d42-2252-431c-8748-e75c871ad7d5",
   "metadata": {},
   "outputs": [],
   "source": [
    "#computer science, visual arts 과목 and 점수추가\n",
    "gradebook.append([\"computer science\", 100])\n",
    "gradebook.append([\"visual arts\", 93])"
   ]
  },
  {
   "cell_type": "code",
   "execution_count": 34,
   "id": "1e67b2b4-4461-4cd4-af80-0bc75e141508",
   "metadata": {},
   "outputs": [
    {
     "data": {
      "text/plain": [
       "[['physics', 98],\n",
       " ['calculus', 97],\n",
       " ['poetry', 85],\n",
       " ['history', 88],\n",
       " ['computer science', 100],\n",
       " ['visual arts', 93]]"
      ]
     },
     "execution_count": 34,
     "metadata": {},
     "output_type": "execute_result"
    }
   ],
   "source": [
    "gradebook"
   ]
  },
  {
   "cell_type": "markdown",
   "id": "1bc659f0-62ba-4666-8d7b-f1af2153e7a1",
   "metadata": {},
   "source": [
    "예상출력 비교\n",
    "\n",
    "[['physics', 98], ['calculus', 97], ['poetry', 85], ['history', 88], ['computer science', 100], ['visual arts', 93]]"
   ]
  },
  {
   "cell_type": "code",
   "execution_count": 36,
   "id": "dbf681be-c45c-4164-9d48-eb628c8e88a6",
   "metadata": {},
   "outputs": [],
   "source": [
    "#채점 실수, visual arts 수업에 5점 +\n",
    "gradebook[-1][1] += 5 #visual arts는 마지막 항목 [-1]"
   ]
  },
  {
   "cell_type": "code",
   "execution_count": 38,
   "id": "16d58f11-051d-4b0a-afbf-a7f40710e5e2",
   "metadata": {},
   "outputs": [
    {
     "data": {
      "text/plain": [
       "[['physics', 98],\n",
       " ['calculus', 97],\n",
       " ['poetry', 85],\n",
       " ['history', 88],\n",
       " ['computer science', 100],\n",
       " ['visual arts', 98]]"
      ]
     },
     "execution_count": 38,
     "metadata": {},
     "output_type": "execute_result"
    }
   ],
   "source": [
    "#visual arts 점수 확인 93 -> 98 변경\n",
    "gradebook"
   ]
  },
  {
   "cell_type": "code",
   "execution_count": 40,
   "id": "92b9a51c-acc1-46ca-9b36-2a524a69a764",
   "metadata": {},
   "outputs": [],
   "source": [
    "#poetry => pass\n",
    "gradebook.remove(['poetry', 85])\n",
    "gradebook.append(['poetry', 'Pass'])"
   ]
  },
  {
   "cell_type": "code",
   "execution_count": 42,
   "id": "e7e26f0e-f632-4232-a135-684da0de4e27",
   "metadata": {},
   "outputs": [
    {
     "data": {
      "text/plain": [
       "[['physics', 98],\n",
       " ['calculus', 97],\n",
       " ['history', 88],\n",
       " ['computer science', 100],\n",
       " ['visual arts', 98],\n",
       " ['poetry', 'Pass']]"
      ]
     },
     "execution_count": 42,
     "metadata": {},
     "output_type": "execute_result"
    }
   ],
   "source": [
    "gradebook"
   ]
  },
  {
   "cell_type": "markdown",
   "id": "6b9f4339-be3e-427c-8e04-b7847b132ce2",
   "metadata": {},
   "source": [
    "예상출력\n",
    "[['physics', 98], ['calculus', 97], ['poetry', 'Pass'], ['history', 88], ['computer science', 100], ['visual arts', 98]]"
   ]
  },
  {
   "cell_type": "code",
   "execution_count": 48,
   "id": "e1c4bea7-8450-4b92-9f66-a75c02aa3446",
   "metadata": {},
   "outputs": [],
   "source": [
    "#지난학기 성적\n",
    "last_semester_gradebook = [[\"politics\", 80], [\"latin\", 96], [\"dance\", 97], [\"architecture\", 65]]"
   ]
  },
  {
   "cell_type": "code",
   "execution_count": 50,
   "id": "9acd8bfd-6c1a-42ff-8f08-b0a8fc1d3077",
   "metadata": {},
   "outputs": [],
   "source": [
    "# 지난학기 + 현재학기 성적 \n",
    "full_gradebook = last_semester_gradebook + gradebook"
   ]
  },
  {
   "cell_type": "code",
   "execution_count": 52,
   "id": "f3fa5039-e69f-4176-9bf0-c7ccbf94bb3c",
   "metadata": {},
   "outputs": [
    {
     "data": {
      "text/plain": [
       "[['politics', 80],\n",
       " ['latin', 96],\n",
       " ['dance', 97],\n",
       " ['architecture', 65],\n",
       " ['physics', 98],\n",
       " ['calculus', 97],\n",
       " ['history', 88],\n",
       " ['computer science', 100],\n",
       " ['visual arts', 98],\n",
       " ['poetry', 'Pass']]"
      ]
     },
     "execution_count": 52,
     "metadata": {},
     "output_type": "execute_result"
    }
   ],
   "source": [
    "full_gradebook"
   ]
  },
  {
   "cell_type": "markdown",
   "id": "77744e07-a445-465a-83a1-aafe05c9da6b",
   "metadata": {},
   "source": [
    "예상 출력 비교\n",
    "[['politics', 80], ['latin', 96], ['dance', 97], ['architecture', 65], ['physics', 98], ['calculus', 97], \n",
    "['poetry', 'Pass'], ['history', 88], ['computer science', 100], ['visual arts', 98]]"
   ]
  }
 ],
 "metadata": {
  "kernelspec": {
   "display_name": "Python 3 (ipykernel)",
   "language": "python",
   "name": "python3"
  },
  "language_info": {
   "codemirror_mode": {
    "name": "ipython",
    "version": 3
   },
   "file_extension": ".py",
   "mimetype": "text/x-python",
   "name": "python",
   "nbconvert_exporter": "python",
   "pygments_lexer": "ipython3",
   "version": "3.12.4"
  }
 },
 "nbformat": 4,
 "nbformat_minor": 5
}
