{
 "cells": [
  {
   "cell_type": "code",
   "execution_count": 1,
   "id": "a168bb3b-b641-47cb-8e6a-24780a1f98af",
   "metadata": {},
   "outputs": [],
   "source": [
    "#1~3셀 매장 가구 항목 및 가격 설정\n",
    "lovely_loveseat_description = \"Lovely Loveseat. Tufted polyester blend on wood. 32 inches high x 40 inches wide x 30 inches deep. Red or white.\"\n",
    "lovely_loveseat_price = 254.00"
   ]
  },
  {
   "cell_type": "code",
   "execution_count": 5,
   "id": "e11d97b8-7caf-4c2b-a5b0-71c39f075949",
   "metadata": {},
   "outputs": [],
   "source": [
    "stylish_settee_description = \"Stylish Settee. Faux leather on birch. 29.50 inches high x 54.75 inches wide x 28 inches deep. Black.\"\n",
    "stylish_settee_price = 180.50"
   ]
  },
  {
   "cell_type": "code",
   "execution_count": 7,
   "id": "b513f5a6-e67d-4baa-82eb-91e46f653f19",
   "metadata": {},
   "outputs": [],
   "source": [
    "luxurious_lamp_description = \"Luxurious Lamp. Glass and iron. 36 inches tall. Brown with cream shade.\"\n",
    "luxurious_lamp_price = 52.15"
   ]
  },
  {
   "cell_type": "code",
   "execution_count": 9,
   "id": "0c36e55c-c2f3-4b28-a0da-01c55987979d",
   "metadata": {},
   "outputs": [],
   "source": [
    "#매출세 8.8% 설정\n",
    "sales_tax = 0.088"
   ]
  },
  {
   "cell_type": "code",
   "execution_count": 11,
   "id": "310f0e6a-2732-4b57-9d9e-aae0c3abf506",
   "metadata": {},
   "outputs": [],
   "source": [
    "#고객 정보 초기화\n",
    "customer_one_total = 0\n",
    "customer_one_itemization = \" \""
   ]
  },
  {
   "cell_type": "code",
   "execution_count": 13,
   "id": "8a3fb78b-fc2c-40da-a9d7-21411c1a93c3",
   "metadata": {},
   "outputs": [],
   "source": [
    "#고객 구매 정보\n",
    "customer_one_itemization += lovely_loveseat_description #가구 설명\n",
    "customer_one_total += lovely_loveseat_price"
   ]
  },
  {
   "cell_type": "code",
   "execution_count": 15,
   "id": "e03d9ed4-c67b-4774-a288-23ecebf072b6",
   "metadata": {},
   "outputs": [],
   "source": [
    "#추가 구매 \n",
    "customer_one_itemization += luxurious_lamp_description\n",
    "customer_one_total += luxurious_lamp_price"
   ]
  },
  {
   "cell_type": "code",
   "execution_count": 17,
   "id": "c74b79c3-7dc5-47b6-b6a8-5b686053c1dd",
   "metadata": {},
   "outputs": [],
   "source": [
    "#세금 \n",
    "customer_one_tax = customer_one_total * sales_tax\n",
    "customer_one_total += customer_one_tax"
   ]
  },
  {
   "cell_type": "code",
   "execution_count": 19,
   "id": "fc248ec8-4603-4e67-b93c-f8ab4813d44a",
   "metadata": {},
   "outputs": [
    {
     "name": "stdout",
     "output_type": "stream",
     "text": [
      "Customer One Items:\n",
      " Lovely Loveseat. Tufted polyester blend on wood. 32 inches high x 40 inches wide x 30 inches deep. Red or white.Luxurious Lamp. Glass and iron. 36 inches tall. Brown with cream shade.\n",
      "Customer One Total:\n",
      "333.09119999999996\n"
     ]
    }
   ],
   "source": [
    "#영수증 출력\n",
    "print(\"Customer One Items:\")\n",
    "print(customer_one_itemization)\n",
    "\n",
    "print(\"Customer One Total:\")\n",
    "print(customer_one_total)"
   ]
  },
  {
   "cell_type": "markdown",
   "id": "e24bfa72-64d1-4384-bd78-c99430c93aeb",
   "metadata": {},
   "source": [
    "예상출력 비교\n",
    "Customer One Items:\n",
    "Lovely Loveseat. Tufted polyester blend on wood. 32 inches high x 40 inches wide x 30 inches deep. Red or white.Luxurious Lamp. Glass and iron. 36 inches tall. Brown with cream shade.\n",
    "Customer One Total:\n",
    "333.09119999999996"
   ]
  }
 ],
 "metadata": {
  "kernelspec": {
   "display_name": "Python 3 (ipykernel)",
   "language": "python",
   "name": "python3"
  },
  "language_info": {
   "codemirror_mode": {
    "name": "ipython",
    "version": 3
   },
   "file_extension": ".py",
   "mimetype": "text/x-python",
   "name": "python",
   "nbconvert_exporter": "python",
   "pygments_lexer": "ipython3",
   "version": "3.12.4"
  }
 },
 "nbformat": 4,
 "nbformat_minor": 5
}
